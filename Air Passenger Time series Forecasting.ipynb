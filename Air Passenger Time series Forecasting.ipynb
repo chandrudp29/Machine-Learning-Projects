{
 "cells": [
  {
   "cell_type": "markdown",
   "metadata": {},
   "source": [
    "# Import Libraries"
   ]
  },
  {
   "cell_type": "code",
   "execution_count": 39,
   "metadata": {},
   "outputs": [],
   "source": [
    "import pandas as pd\n",
    "import numpy as np\n",
    "import matplotlib.pyplot as plt"
   ]
  },
  {
   "cell_type": "markdown",
   "metadata": {
    "scrolled": true
   },
   "source": [
    "# Load Data set"
   ]
  },
  {
   "cell_type": "code",
   "execution_count": 2,
   "metadata": {},
   "outputs": [],
   "source": [
    "df=pd.read_csv(\"AirPassengers.csv\")"
   ]
  },
  {
   "cell_type": "markdown",
   "metadata": {},
   "source": [
    "# Data Exploration"
   ]
  },
  {
   "cell_type": "code",
   "execution_count": 5,
   "metadata": {},
   "outputs": [
    {
     "data": {
      "text/html": [
       "<div>\n",
       "<style scoped>\n",
       "    .dataframe tbody tr th:only-of-type {\n",
       "        vertical-align: middle;\n",
       "    }\n",
       "\n",
       "    .dataframe tbody tr th {\n",
       "        vertical-align: top;\n",
       "    }\n",
       "\n",
       "    .dataframe thead th {\n",
       "        text-align: right;\n",
       "    }\n",
       "</style>\n",
       "<table border=\"1\" class=\"dataframe\">\n",
       "  <thead>\n",
       "    <tr style=\"text-align: right;\">\n",
       "      <th></th>\n",
       "      <th>Month</th>\n",
       "      <th>#Passengers</th>\n",
       "    </tr>\n",
       "  </thead>\n",
       "  <tbody>\n",
       "    <tr>\n",
       "      <th>0</th>\n",
       "      <td>1949-01</td>\n",
       "      <td>112</td>\n",
       "    </tr>\n",
       "    <tr>\n",
       "      <th>1</th>\n",
       "      <td>1949-02</td>\n",
       "      <td>118</td>\n",
       "    </tr>\n",
       "    <tr>\n",
       "      <th>2</th>\n",
       "      <td>1949-03</td>\n",
       "      <td>132</td>\n",
       "    </tr>\n",
       "    <tr>\n",
       "      <th>3</th>\n",
       "      <td>1949-04</td>\n",
       "      <td>129</td>\n",
       "    </tr>\n",
       "    <tr>\n",
       "      <th>4</th>\n",
       "      <td>1949-05</td>\n",
       "      <td>121</td>\n",
       "    </tr>\n",
       "  </tbody>\n",
       "</table>\n",
       "</div>"
      ],
      "text/plain": [
       "     Month  #Passengers\n",
       "0  1949-01          112\n",
       "1  1949-02          118\n",
       "2  1949-03          132\n",
       "3  1949-04          129\n",
       "4  1949-05          121"
      ]
     },
     "execution_count": 5,
     "metadata": {},
     "output_type": "execute_result"
    }
   ],
   "source": [
    "df.head()"
   ]
  },
  {
   "cell_type": "code",
   "execution_count": 6,
   "metadata": {},
   "outputs": [
    {
     "data": {
      "text/plain": [
       "(144, 2)"
      ]
     },
     "execution_count": 6,
     "metadata": {},
     "output_type": "execute_result"
    }
   ],
   "source": [
    "df.shape"
   ]
  },
  {
   "cell_type": "code",
   "execution_count": 7,
   "metadata": {},
   "outputs": [
    {
     "data": {
      "text/html": [
       "<div>\n",
       "<style scoped>\n",
       "    .dataframe tbody tr th:only-of-type {\n",
       "        vertical-align: middle;\n",
       "    }\n",
       "\n",
       "    .dataframe tbody tr th {\n",
       "        vertical-align: top;\n",
       "    }\n",
       "\n",
       "    .dataframe thead th {\n",
       "        text-align: right;\n",
       "    }\n",
       "</style>\n",
       "<table border=\"1\" class=\"dataframe\">\n",
       "  <thead>\n",
       "    <tr style=\"text-align: right;\">\n",
       "      <th></th>\n",
       "      <th>#Passengers</th>\n",
       "    </tr>\n",
       "  </thead>\n",
       "  <tbody>\n",
       "    <tr>\n",
       "      <th>count</th>\n",
       "      <td>144.000000</td>\n",
       "    </tr>\n",
       "    <tr>\n",
       "      <th>mean</th>\n",
       "      <td>280.298611</td>\n",
       "    </tr>\n",
       "    <tr>\n",
       "      <th>std</th>\n",
       "      <td>119.966317</td>\n",
       "    </tr>\n",
       "    <tr>\n",
       "      <th>min</th>\n",
       "      <td>104.000000</td>\n",
       "    </tr>\n",
       "    <tr>\n",
       "      <th>25%</th>\n",
       "      <td>180.000000</td>\n",
       "    </tr>\n",
       "    <tr>\n",
       "      <th>50%</th>\n",
       "      <td>265.500000</td>\n",
       "    </tr>\n",
       "    <tr>\n",
       "      <th>75%</th>\n",
       "      <td>360.500000</td>\n",
       "    </tr>\n",
       "    <tr>\n",
       "      <th>max</th>\n",
       "      <td>622.000000</td>\n",
       "    </tr>\n",
       "  </tbody>\n",
       "</table>\n",
       "</div>"
      ],
      "text/plain": [
       "       #Passengers\n",
       "count   144.000000\n",
       "mean    280.298611\n",
       "std     119.966317\n",
       "min     104.000000\n",
       "25%     180.000000\n",
       "50%     265.500000\n",
       "75%     360.500000\n",
       "max     622.000000"
      ]
     },
     "execution_count": 7,
     "metadata": {},
     "output_type": "execute_result"
    }
   ],
   "source": [
    "df.describe()"
   ]
  },
  {
   "cell_type": "code",
   "execution_count": 16,
   "metadata": {
    "scrolled": true
   },
   "outputs": [
    {
     "data": {
      "text/plain": [
       "[<matplotlib.lines.Line2D at 0x1eff0b84ec8>]"
      ]
     },
     "execution_count": 16,
     "metadata": {},
     "output_type": "execute_result"
    },
    {
     "data": {
      "image/png": "[encoded data removed]",
      "text/plain": [
       "<Figure size 432x288 with 1 Axes>"
      ]
     },
     "metadata": {
      "needs_background": "light"
     },
     "output_type": "display_data"
    }
   ],
   "source": [
    "plt.plot(df.iloc[:,1])"
   ]
  },
  {
   "cell_type": "markdown",
   "metadata": {},
   "source": [
    "# Scaling"
   ]
  },
  {
   "cell_type": "markdown",
   "metadata": {},
   "source": [
    "Im using LSTM to predict but LSTM is very sensitive so im using Minmax scaler to scale all my data"
   ]
  },
  {
   "cell_type": "code",
   "execution_count": 19,
   "metadata": {},
   "outputs": [],
   "source": [
    "from sklearn.preprocessing import MinMaxScaler"
   ]
  },
  {
   "cell_type": "code",
   "execution_count": 35,
   "metadata": {},
   "outputs": [
    {
     "data": {
      "text/plain": [
       "0      112\n",
       "1      118\n",
       "2      132\n",
       "3      129\n",
       "4      121\n",
       "      ... \n",
       "139    606\n",
       "140    508\n",
       "141    461\n",
       "142    390\n",
       "143    432\n",
       "Name: #Passengers, Length: 144, dtype: int64"
      ]
     },
     "execution_count": 35,
     "metadata": {},
     "output_type": "execute_result"
    }
   ],
   "source": [
    "df.iloc[:,1]"
   ]
  },
  {
   "cell_type": "code",
   "execution_count": 37,
   "metadata": {},
   "outputs": [],
   "source": [
    "scaler=MinMaxScaler(feature_range=(0,1))\n",
    "df=scaler.fit_transform(df.iloc[:,1:])"
   ]
  },
  {
   "cell_type": "code",
   "execution_count": 41,
   "metadata": {},
   "outputs": [
    {
     "data": {
      "text/plain": [
       "(144, 1)"
      ]
     },
     "execution_count": 41,
     "metadata": {},
     "output_type": "execute_result"
    }
   ],
   "source": [
    "df.shape"
   ]
  },
  {
   "cell_type": "code",
   "execution_count": 42,
   "metadata": {},
   "outputs": [
    {
     "data": {
      "text/plain": [
       "array([[0.01544402],\n",
       "       [0.02702703],\n",
       "       [0.05405405],\n",
       "       [0.04826255],\n",
       "       [0.03281853],\n",
       "       [0.05984556],\n",
       "       [0.08494208],\n",
       "       [0.08494208],\n",
       "       [0.06177606],\n",
       "       [0.02895753],\n",
       "       [0.        ],\n",
       "       [0.02702703],\n",
       "       [0.02123552],\n",
       "       [0.04247104],\n",
       "       [0.07142857],\n",
       "       [0.05984556],\n",
       "       [0.04054054],\n",
       "       [0.08687259],\n",
       "       [0.12741313],\n",
       "       [0.12741313],\n",
       "       [0.1042471 ],\n",
       "       [0.05598456],\n",
       "       [0.01930502],\n",
       "       [0.06949807],\n",
       "       [0.07915058],\n",
       "       [0.08880309],\n",
       "       [0.14285714],\n",
       "       [0.11389961],\n",
       "       [0.13127413],\n",
       "       [0.14285714],\n",
       "       [0.18339768],\n",
       "       [0.18339768],\n",
       "       [0.15444015],\n",
       "       [0.11196911],\n",
       "       [0.08108108],\n",
       "       [0.11969112],\n",
       "       [0.12934363],\n",
       "       [0.14671815],\n",
       "       [0.17181467],\n",
       "       [0.14864865],\n",
       "       [0.15250965],\n",
       "       [0.22007722],\n",
       "       [0.24324324],\n",
       "       [0.26640927],\n",
       "       [0.2027027 ],\n",
       "       [0.16795367],\n",
       "       [0.13127413],\n",
       "       [0.17374517],\n",
       "       [0.17760618],\n",
       "       [0.17760618],\n",
       "       [0.25482625],\n",
       "       [0.25289575],\n",
       "       [0.24131274],\n",
       "       [0.26833977],\n",
       "       [0.30888031],\n",
       "       [0.32432432],\n",
       "       [0.25675676],\n",
       "       [0.20656371],\n",
       "       [0.14671815],\n",
       "       [0.18725869],\n",
       "       [0.19305019],\n",
       "       [0.16216216],\n",
       "       [0.25289575],\n",
       "       [0.23745174],\n",
       "       [0.25096525],\n",
       "       [0.30888031],\n",
       "       [0.38223938],\n",
       "       [0.36486486],\n",
       "       [0.2992278 ],\n",
       "       [0.24131274],\n",
       "       [0.19111969],\n",
       "       [0.24131274],\n",
       "       [0.26640927],\n",
       "       [0.24903475],\n",
       "       [0.31467181],\n",
       "       [0.31853282],\n",
       "       [0.32046332],\n",
       "       [0.40733591],\n",
       "       [0.5019305 ],\n",
       "       [0.46911197],\n",
       "       [0.4015444 ],\n",
       "       [0.32818533],\n",
       "       [0.25675676],\n",
       "       [0.33590734],\n",
       "       [0.34749035],\n",
       "       [0.33397683],\n",
       "       [0.41119691],\n",
       "       [0.4034749 ],\n",
       "       [0.41312741],\n",
       "       [0.52123552],\n",
       "       [0.5965251 ],\n",
       "       [0.58108108],\n",
       "       [0.48455598],\n",
       "       [0.38996139],\n",
       "       [0.32239382],\n",
       "       [0.38996139],\n",
       "       [0.40733591],\n",
       "       [0.38030888],\n",
       "       [0.48648649],\n",
       "       [0.47104247],\n",
       "       [0.48455598],\n",
       "       [0.61389961],\n",
       "       [0.6969112 ],\n",
       "       [0.7007722 ],\n",
       "       [0.57915058],\n",
       "       [0.46911197],\n",
       "       [0.38803089],\n",
       "       [0.44787645],\n",
       "       [0.45559846],\n",
       "       [0.41312741],\n",
       "       [0.4980695 ],\n",
       "       [0.47104247],\n",
       "       [0.5       ],\n",
       "       [0.63899614],\n",
       "       [0.74710425],\n",
       "       [0.77413127],\n",
       "       [0.57915058],\n",
       "       [0.49227799],\n",
       "       [0.3976834 ],\n",
       "       [0.44980695],\n",
       "       [0.49420849],\n",
       "       [0.45945946],\n",
       "       [0.58301158],\n",
       "       [0.56370656],\n",
       "       [0.61003861],\n",
       "       [0.71042471],\n",
       "       [0.85714286],\n",
       "       [0.87837838],\n",
       "       [0.69305019],\n",
       "       [0.58494208],\n",
       "       [0.4980695 ],\n",
       "       [0.58108108],\n",
       "       [0.6042471 ],\n",
       "       [0.55405405],\n",
       "       [0.60810811],\n",
       "       [0.68918919],\n",
       "       [0.71042471],\n",
       "       [0.83204633],\n",
       "       [1.        ],\n",
       "       [0.96911197],\n",
       "       [0.77992278],\n",
       "       [0.68918919],\n",
       "       [0.55212355],\n",
       "       [0.63320463]])"
      ]
     },
     "execution_count": 42,
     "metadata": {},
     "output_type": "execute_result"
    }
   ],
   "source": [
    "df"
   ]
  },
  {
   "cell_type": "markdown",
   "metadata": {},
   "source": [
    "# Splitting"
   ]
  },
  {
   "cell_type": "markdown",
   "metadata": {},
   "source": [
    "splitting dataset into train and test split"
   ]
  },
  {
   "cell_type": "code",
   "execution_count": 44,
   "metadata": {},
   "outputs": [
    {
     "data": {
      "text/plain": [
       "93"
      ]
     },
     "execution_count": 44,
     "metadata": {},
     "output_type": "execute_result"
    }
   ],
   "source": [
    "training_size=int(len(df)*0.65)\n",
    "training_size"
   ]
  },
  {
   "cell_type": "code",
   "execution_count": 46,
   "metadata": {},
   "outputs": [
    {
     "data": {
      "text/plain": [
       "51"
      ]
     },
     "execution_count": 46,
     "metadata": {},
     "output_type": "execute_result"
    }
   ],
   "source": [
    "test_size=len(df)-training_size\n",
    "test_size"
   ]
  },
  {
   "cell_type": "code",
   "execution_count": 47,
   "metadata": {},
   "outputs": [],
   "source": [
    "train_data,test_data=df[0:training_size,:],df[training_size:len(df),:1]"
   ]
  },
  {
   "cell_type": "code",
   "execution_count": 48,
   "metadata": {},
   "outputs": [
    {
     "data": {
      "text/plain": [
       "(93, 1)"
      ]
     },
     "execution_count": 48,
     "metadata": {},
     "output_type": "execute_result"
    }
   ],
   "source": [
    "train_data.shape"
   ]
  },
  {
   "cell_type": "code",
   "execution_count": 49,
   "metadata": {},
   "outputs": [
    {
     "data": {
      "text/plain": [
       "(51, 1)"
      ]
     },
     "execution_count": 49,
     "metadata": {},
     "output_type": "execute_result"
    }
   ],
   "source": [
    "test_data.shape"
   ]
  },
  {
   "cell_type": "markdown",
   "metadata": {},
   "source": [
    "convert an array of values into a dataset matrix"
   ]
  },
  {
   "cell_type": "code",
   "execution_count": 52,
   "metadata": {},
   "outputs": [],
   "source": [
    "def create_dataset(dataset, time_step=1):\n",
    "    dataX, dataY = [], []\n",
    "    for i in range(len(dataset)-time_step-1):\n",
    "        a = dataset[i:(i+time_step), 0]\n",
    "        dataX.append(a)\n",
    "        dataY.append(dataset[i + time_step, 0])\n",
    "    return np.array(dataX), np.array(dataY)"
   ]
  },
  {
   "cell_type": "markdown",
   "metadata": {},
   "source": [
    "reshape into X=t,t+1,t+2,t+3 and Y=t+4 with time step"
   ]
  },
  {
   "cell_type": "code",
   "execution_count": 53,
   "metadata": {},
   "outputs": [],
   "source": [
    "time_step = 4\n",
    "X_train, y_train = create_dataset(train_data, time_step)\n",
    "X_test, ytest = create_dataset(test_data, time_step)"
   ]
  },
  {
   "cell_type": "code",
   "execution_count": 55,
   "metadata": {},
   "outputs": [
    {
     "data": {
      "text/plain": [
       "((88, 4), (88,))"
      ]
     },
     "execution_count": 55,
     "metadata": {},
     "output_type": "execute_result"
    }
   ],
   "source": [
    "X_train.shape,y_train.shape"
   ]
  },
  {
   "cell_type": "code",
   "execution_count": 57,
   "metadata": {},
   "outputs": [
    {
     "data": {
      "text/plain": [
       "((46, 4), (46,))"
      ]
     },
     "execution_count": 57,
     "metadata": {},
     "output_type": "execute_result"
    }
   ],
   "source": [
    "X_test.shape,ytest.shape"
   ]
  },
  {
   "cell_type": "markdown",
   "metadata": {},
   "source": [
    "reshape input to be [samples, time steps, features] which is required for LSTM we need three so adding extra feature"
   ]
  },
  {
   "cell_type": "code",
   "execution_count": 58,
   "metadata": {},
   "outputs": [],
   "source": [
    "X_train =X_train.reshape(X_train.shape[0], 4, 1)\n",
    "X_test = X_test.reshape(X_test.shape[0], 4, 1)"
   ]
  },
  {
   "cell_type": "code",
   "execution_count": 61,
   "metadata": {},
   "outputs": [
    {
     "data": {
      "text/plain": [
       "((88, 4, 1), (46, 4, 1))"
      ]
     },
     "execution_count": 61,
     "metadata": {},
     "output_type": "execute_result"
    }
   ],
   "source": [
    "X_train.shape,X_test.shape"
   ]
  },
  {
   "cell_type": "markdown",
   "metadata": {},
   "source": [
    "# Applying Model"
   ]
  },
  {
   "cell_type": "markdown",
   "metadata": {},
   "source": [
    "Create the LSTM model"
   ]
  },
  {
   "cell_type": "code",
   "execution_count": 62,
   "metadata": {},
   "outputs": [
    {
     "name": "stderr",
     "output_type": "stream",
     "text": [
      "C:\\Users\\Chandru\\anaconda3\\lib\\site-packages\\tensorflow\\python\\framework\\dtypes.py:526: FutureWarning: Passing (type, 1) or '1type' as a synonym of type is deprecated; in a future version of numpy, it will be understood as (type, (1,)) / '(1,)type'.\n",
      "  _np_qint8 = np.dtype([(\"qint8\", np.int8, 1)])\n",
      "C:\\Users\\Chandru\\anaconda3\\lib\\site-packages\\tensorflow\\python\\framework\\dtypes.py:527: FutureWarning: Passing (type, 1) or '1type' as a synonym of type is deprecated; in a future version of numpy, it will be understood as (type, (1,)) / '(1,)type'.\n",
      "  _np_quint8 = np.dtype([(\"quint8\", np.uint8, 1)])\n",
      "C:\\Users\\Chandru\\anaconda3\\lib\\site-packages\\tensorflow\\python\\framework\\dtypes.py:528: FutureWarning: Passing (type, 1) or '1type' as a synonym of type is deprecated; in a future version of numpy, it will be understood as (type, (1,)) / '(1,)type'.\n",
      "  _np_qint16 = np.dtype([(\"qint16\", np.int16, 1)])\n",
      "C:\\Users\\Chandru\\anaconda3\\lib\\site-packages\\tensorflow\\python\\framework\\dtypes.py:529: FutureWarning: Passing (type, 1) or '1type' as a synonym of type is deprecated; in a future version of numpy, it will be understood as (type, (1,)) / '(1,)type'.\n",
      "  _np_quint16 = np.dtype([(\"quint16\", np.uint16, 1)])\n",
      "C:\\Users\\Chandru\\anaconda3\\lib\\site-packages\\tensorflow\\python\\framework\\dtypes.py:530: FutureWarning: Passing (type, 1) or '1type' as a synonym of type is deprecated; in a future version of numpy, it will be understood as (type, (1,)) / '(1,)type'.\n",
      "  _np_qint32 = np.dtype([(\"qint32\", np.int32, 1)])\n",
      "C:\\Users\\Chandru\\anaconda3\\lib\\site-packages\\tensorflow\\python\\framework\\dtypes.py:535: FutureWarning: Passing (type, 1) or '1type' as a synonym of type is deprecated; in a future version of numpy, it will be understood as (type, (1,)) / '(1,)type'.\n",
      "  np_resource = np.dtype([(\"resource\", np.ubyte, 1)])\n"
     ]
    }
   ],
   "source": [
    "from tensorflow.keras.models import Sequential\n",
    "from tensorflow.keras.layers import Dense\n",
    "from tensorflow.keras.layers import LSTM"
   ]
  },
  {
   "cell_type": "code",
   "execution_count": 63,
   "metadata": {},
   "outputs": [
    {
     "name": "stdout",
     "output_type": "stream",
     "text": [
      "WARNING:tensorflow:From C:\\Users\\Chandru\\anaconda3\\lib\\site-packages\\tensorflow\\python\\ops\\resource_variable_ops.py:435: colocate_with (from tensorflow.python.framework.ops) is deprecated and will be removed in a future version.\n",
      "Instructions for updating:\n",
      "Colocations handled automatically by placer.\n",
      "WARNING:tensorflow:From C:\\Users\\Chandru\\anaconda3\\lib\\site-packages\\tensorflow\\python\\keras\\utils\\losses_utils.py:170: to_float (from tensorflow.python.ops.math_ops) is deprecated and will be removed in a future version.\n",
      "Instructions for updating:\n",
      "Use tf.cast instead.\n",
      "Train on 88 samples, validate on 46 samples\n",
      "WARNING:tensorflow:From C:\\Users\\Chandru\\anaconda3\\lib\\site-packages\\tensorflow\\python\\ops\\math_ops.py:3066: to_int32 (from tensorflow.python.ops.math_ops) is deprecated and will be removed in a future version.\n",
      "Instructions for updating:\n",
      "Use tf.cast instead.\n",
      "Epoch 1/100\n",
      "88/88 [==============================] - 5s 57ms/sample - loss: 0.0148 - val_loss: 0.0585\n",
      "Epoch 2/100\n",
      "88/88 [==============================] - 1s 10ms/sample - loss: 0.0073 - val_loss: 0.0340\n",
      "Epoch 3/100\n",
      "88/88 [==============================] - 1s 11ms/sample - loss: 0.0057 - val_loss: 0.0329\n",
      "Epoch 4/100\n",
      "88/88 [==============================] - 2s 26ms/sample - loss: 0.0055 - val_loss: 0.0255\n",
      "Epoch 5/100\n",
      "88/88 [==============================] - 1s 14ms/sample - loss: 0.0062 - val_loss: 0.0275\n",
      "Epoch 6/100\n",
      "88/88 [==============================] - 1s 9ms/sample - loss: 0.0053 - val_loss: 0.0259\n",
      "Epoch 7/100\n",
      "88/88 [==============================] - 1s 9ms/sample - loss: 0.0052 - val_loss: 0.0250\n",
      "Epoch 8/100\n",
      "88/88 [==============================] - 1s 10ms/sample - loss: 0.0051 - val_loss: 0.0257\n",
      "Epoch 9/100\n",
      "88/88 [==============================] - 1s 10ms/sample - loss: 0.0048 - val_loss: 0.0265\n",
      "Epoch 10/100\n",
      "88/88 [==============================] - 1s 9ms/sample - loss: 0.0044 - val_loss: 0.0219\n",
      "Epoch 11/100\n",
      "88/88 [==============================] - 1s 8ms/sample - loss: 0.0046 - val_loss: 0.0214\n",
      "Epoch 12/100\n",
      "88/88 [==============================] - 1s 9ms/sample - loss: 0.0046 - val_loss: 0.0300\n",
      "Epoch 13/100\n",
      "88/88 [==============================] - 1s 10ms/sample - loss: 0.0041 - val_loss: 0.0185\n",
      "Epoch 14/100\n",
      "88/88 [==============================] - 1s 9ms/sample - loss: 0.0039 - val_loss: 0.0157\n",
      "Epoch 15/100\n",
      "88/88 [==============================] - 1s 8ms/sample - loss: 0.0040 - val_loss: 0.0127\n",
      "Epoch 16/100\n",
      "88/88 [==============================] - 1s 8ms/sample - loss: 0.0040 - val_loss: 0.0137\n",
      "Epoch 17/100\n",
      "88/88 [==============================] - 1s 7ms/sample - loss: 0.0039 - val_loss: 0.0110\n",
      "Epoch 18/100\n",
      "88/88 [==============================] - 1s 8ms/sample - loss: 0.0033 - val_loss: 0.0151\n",
      "Epoch 19/100\n",
      "88/88 [==============================] - 1s 8ms/sample - loss: 0.0025 - val_loss: 0.0135\n",
      "Epoch 20/100\n",
      "88/88 [==============================] - 1s 8ms/sample - loss: 0.0031 - val_loss: 0.0109\n",
      "Epoch 21/100\n",
      "88/88 [==============================] - 1s 8ms/sample - loss: 0.0026 - val_loss: 0.0078\n",
      "Epoch 22/100\n",
      "88/88 [==============================] - 1s 8ms/sample - loss: 0.0023 - val_loss: 0.0110\n",
      "Epoch 23/100\n",
      "88/88 [==============================] - 1s 8ms/sample - loss: 0.0021 - val_loss: 0.0066\n",
      "Epoch 24/100\n",
      "88/88 [==============================] - 1s 8ms/sample - loss: 0.0020 - val_loss: 0.0066\n",
      "Epoch 25/100\n",
      "88/88 [==============================] - 1s 8ms/sample - loss: 0.0028 - val_loss: 0.0078\n",
      "Epoch 26/100\n",
      "88/88 [==============================] - 1s 8ms/sample - loss: 0.0026 - val_loss: 0.0151\n",
      "Epoch 27/100\n",
      "88/88 [==============================] - 1s 9ms/sample - loss: 0.0020 - val_loss: 0.0097\n",
      "Epoch 28/100\n",
      "88/88 [==============================] - 1s 8ms/sample - loss: 0.0018 - val_loss: 0.0081\n",
      "Epoch 29/100\n",
      "88/88 [==============================] - 1s 8ms/sample - loss: 0.0018 - val_loss: 0.0099\n",
      "Epoch 30/100\n",
      "88/88 [==============================] - 1s 8ms/sample - loss: 0.0018 - val_loss: 0.0113\n",
      "Epoch 31/100\n",
      "88/88 [==============================] - 1s 8ms/sample - loss: 0.0019 - val_loss: 0.0090\n",
      "Epoch 32/100\n",
      "88/88 [==============================] - 1s 8ms/sample - loss: 0.0018 - val_loss: 0.0087\n",
      "Epoch 33/100\n",
      "88/88 [==============================] - 1s 8ms/sample - loss: 0.0019 - val_loss: 0.0131\n",
      "Epoch 34/100\n",
      "88/88 [==============================] - 1s 10ms/sample - loss: 0.0019 - val_loss: 0.0103\n",
      "Epoch 35/100\n",
      "88/88 [==============================] - 1s 9ms/sample - loss: 0.0021 - val_loss: 0.0165\n",
      "Epoch 36/100\n",
      "88/88 [==============================] - 1s 10ms/sample - loss: 0.0019 - val_loss: 0.0118\n",
      "Epoch 37/100\n",
      "88/88 [==============================] - 1s 10ms/sample - loss: 0.0019 - val_loss: 0.0084\n",
      "Epoch 38/100\n",
      "88/88 [==============================] - 1s 9ms/sample - loss: 0.0018 - val_loss: 0.0090\n",
      "Epoch 39/100\n",
      "88/88 [==============================] - 1s 9ms/sample - loss: 0.0018 - val_loss: 0.0095\n",
      "Epoch 40/100\n",
      "88/88 [==============================] - 1s 9ms/sample - loss: 0.0020 - val_loss: 0.0148\n",
      "Epoch 41/100\n",
      "88/88 [==============================] - 1s 9ms/sample - loss: 0.0021 - val_loss: 0.0095\n",
      "Epoch 42/100\n",
      "88/88 [==============================] - 1s 10ms/sample - loss: 0.0020 - val_loss: 0.0113\n",
      "Epoch 43/100\n",
      "88/88 [==============================] - 1s 9ms/sample - loss: 0.0019 - val_loss: 0.0127\n",
      "Epoch 44/100\n",
      "88/88 [==============================] - 1s 10ms/sample - loss: 0.0019 - val_loss: 0.0116\n",
      "Epoch 45/100\n",
      "88/88 [==============================] - 1s 10ms/sample - loss: 0.0021 - val_loss: 0.0087\n",
      "Epoch 46/100\n",
      "88/88 [==============================] - 1s 10ms/sample - loss: 0.0018 - val_loss: 0.0083\n",
      "Epoch 47/100\n",
      "88/88 [==============================] - 1s 9ms/sample - loss: 0.0019 - val_loss: 0.0110\n",
      "Epoch 48/100\n",
      "88/88 [==============================] - 1s 10ms/sample - loss: 0.0018 - val_loss: 0.0105\n",
      "Epoch 49/100\n",
      "88/88 [==============================] - 1s 9ms/sample - loss: 0.0018 - val_loss: 0.0088\n",
      "Epoch 50/100\n",
      "88/88 [==============================] - 1s 9ms/sample - loss: 0.0020 - val_loss: 0.0127\n",
      "Epoch 51/100\n",
      "88/88 [==============================] - 1s 9ms/sample - loss: 0.0018 - val_loss: 0.0084\n",
      "Epoch 52/100\n",
      "88/88 [==============================] - 1s 9ms/sample - loss: 0.0019 - val_loss: 0.0101\n",
      "Epoch 53/100\n",
      "88/88 [==============================] - 1s 9ms/sample - loss: 0.0019 - val_loss: 0.0070\n",
      "Epoch 54/100\n",
      "88/88 [==============================] - 1s 10ms/sample - loss: 0.0019 - val_loss: 0.0089\n",
      "Epoch 55/100\n",
      "88/88 [==============================] - 1s 10ms/sample - loss: 0.0018 - val_loss: 0.0141\n",
      "Epoch 56/100\n",
      "88/88 [==============================] - 1s 9ms/sample - loss: 0.0017 - val_loss: 0.0083\n",
      "Epoch 57/100\n",
      "88/88 [==============================] - 1s 9ms/sample - loss: 0.0019 - val_loss: 0.0117\n",
      "Epoch 58/100\n",
      "88/88 [==============================] - 1s 9ms/sample - loss: 0.0020 - val_loss: 0.0112\n",
      "Epoch 59/100\n",
      "88/88 [==============================] - 1s 9ms/sample - loss: 0.0020 - val_loss: 0.0115\n",
      "Epoch 60/100\n",
      "88/88 [==============================] - 1s 9ms/sample - loss: 0.0017 - val_loss: 0.0274\n",
      "Epoch 61/100\n",
      "88/88 [==============================] - 1s 9ms/sample - loss: 0.0021 - val_loss: 0.0111\n",
      "Epoch 62/100\n",
      "88/88 [==============================] - 1s 9ms/sample - loss: 0.0018 - val_loss: 0.0086\n",
      "Epoch 63/100\n",
      "88/88 [==============================] - 1s 9ms/sample - loss: 0.0020 - val_loss: 0.0165\n",
      "Epoch 64/100\n",
      "88/88 [==============================] - 1s 9ms/sample - loss: 0.0019 - val_loss: 0.0096\n",
      "Epoch 65/100\n",
      "88/88 [==============================] - 1s 9ms/sample - loss: 0.0018 - val_loss: 0.0098\n",
      "Epoch 66/100\n",
      "88/88 [==============================] - 1s 9ms/sample - loss: 0.0021 - val_loss: 0.0229\n",
      "Epoch 67/100\n",
      "88/88 [==============================] - 1s 9ms/sample - loss: 0.0019 - val_loss: 0.0096\n",
      "Epoch 68/100\n",
      "88/88 [==============================] - 1s 9ms/sample - loss: 0.0019 - val_loss: 0.0104\n",
      "Epoch 69/100\n",
      "88/88 [==============================] - 1s 10ms/sample - loss: 0.0019 - val_loss: 0.0099\n",
      "Epoch 70/100\n",
      "88/88 [==============================] - 1s 9ms/sample - loss: 0.0020 - val_loss: 0.0082\n",
      "Epoch 71/100\n",
      "88/88 [==============================] - 1s 9ms/sample - loss: 0.0021 - val_loss: 0.0108\n",
      "Epoch 72/100\n",
      "88/88 [==============================] - 1s 9ms/sample - loss: 0.0019 - val_loss: 0.0160\n",
      "Epoch 73/100\n",
      "88/88 [==============================] - 1s 8ms/sample - loss: 0.0020 - val_loss: 0.0089\n",
      "Epoch 74/100\n",
      "88/88 [==============================] - 1s 8ms/sample - loss: 0.0020 - val_loss: 0.0170\n",
      "Epoch 75/100\n",
      "88/88 [==============================] - 1s 8ms/sample - loss: 0.0019 - val_loss: 0.0253\n",
      "Epoch 76/100\n",
      "88/88 [==============================] - 1s 8ms/sample - loss: 0.0020 - val_loss: 0.0151\n",
      "Epoch 77/100\n",
      "88/88 [==============================] - 1s 8ms/sample - loss: 0.0018 - val_loss: 0.0099\n",
      "Epoch 78/100\n",
      "88/88 [==============================] - 1s 8ms/sample - loss: 0.0019 - val_loss: 0.0136\n",
      "Epoch 79/100\n",
      "88/88 [==============================] - 1s 8ms/sample - loss: 0.0019 - val_loss: 0.0088\n",
      "Epoch 80/100\n",
      "88/88 [==============================] - 1s 8ms/sample - loss: 0.0019 - val_loss: 0.0179\n",
      "Epoch 81/100\n",
      "88/88 [==============================] - 1s 8ms/sample - loss: 0.0018 - val_loss: 0.0128\n",
      "Epoch 82/100\n",
      "88/88 [==============================] - 1s 8ms/sample - loss: 0.0018 - val_loss: 0.0113\n",
      "Epoch 83/100\n",
      "88/88 [==============================] - 1s 8ms/sample - loss: 0.0018 - val_loss: 0.0090\n",
      "Epoch 84/100\n",
      "88/88 [==============================] - 1s 8ms/sample - loss: 0.0020 - val_loss: 0.0087\n",
      "Epoch 85/100\n",
      "88/88 [==============================] - 1s 9ms/sample - loss: 0.0020 - val_loss: 0.0136\n",
      "Epoch 86/100\n",
      "88/88 [==============================] - 1s 9ms/sample - loss: 0.0019 - val_loss: 0.0084\n",
      "Epoch 87/100\n",
      "88/88 [==============================] - 1s 9ms/sample - loss: 0.0018 - val_loss: 0.0114\n",
      "Epoch 88/100\n",
      "88/88 [==============================] - 1s 9ms/sample - loss: 0.0018 - val_loss: 0.0093\n",
      "Epoch 89/100\n",
      "88/88 [==============================] - 1s 9ms/sample - loss: 0.0019 - val_loss: 0.0106\n",
      "Epoch 90/100\n",
      "88/88 [==============================] - 1s 10ms/sample - loss: 0.0019 - val_loss: 0.0093\n",
      "Epoch 91/100\n",
      "88/88 [==============================] - 1s 10ms/sample - loss: 0.0019 - val_loss: 0.0124\n",
      "Epoch 92/100\n",
      "88/88 [==============================] - 1s 10ms/sample - loss: 0.0018 - val_loss: 0.0149\n",
      "Epoch 93/100\n",
      "88/88 [==============================] - 1s 9ms/sample - loss: 0.0019 - val_loss: 0.0093\n",
      "Epoch 94/100\n",
      "88/88 [==============================] - 1s 9ms/sample - loss: 0.0020 - val_loss: 0.0147\n",
      "Epoch 95/100\n",
      "88/88 [==============================] - 1s 11ms/sample - loss: 0.0018 - val_loss: 0.0129\n",
      "Epoch 96/100\n",
      "88/88 [==============================] - 1s 10ms/sample - loss: 0.0019 - val_loss: 0.0233\n",
      "Epoch 97/100\n",
      "88/88 [==============================] - 1s 9ms/sample - loss: 0.0020 - val_loss: 0.0129\n",
      "Epoch 98/100\n",
      "88/88 [==============================] - 1s 9ms/sample - loss: 0.0019 - val_loss: 0.0089\n",
      "Epoch 99/100\n",
      "88/88 [==============================] - 1s 9ms/sample - loss: 0.0019 - val_loss: 0.0117\n",
      "Epoch 100/100\n",
      "88/88 [==============================] - 1s 9ms/sample - loss: 0.0018 - val_loss: 0.0157\n"
     ]
    },
    {
     "data": {
      "text/plain": [
       "<tensorflow.python.keras.callbacks.History at 0x1eff895ea48>"
      ]
     },
     "execution_count": 63,
     "metadata": {},
     "output_type": "execute_result"
    }
   ],
   "source": [
    "model=Sequential()\n",
    "model.add(LSTM(50,return_sequences=True,input_shape=(4,1)))\n",
    "model.add(LSTM(50))\n",
    "model.add(Dense(1))\n",
    "model.compile(loss='mean_squared_error',optimizer='adam')\n",
    "model.fit(X_train,y_train,validation_data=(X_test,ytest),epochs=100,batch_size=1,verbose=1)"
   ]
  },
  {
   "cell_type": "markdown",
   "metadata": {},
   "source": [
    "Lets Do the prediction and check performance metrics"
   ]
  },
  {
   "cell_type": "code",
   "execution_count": 64,
   "metadata": {},
   "outputs": [],
   "source": [
    "train_predict=model.predict(X_train)\n",
    "test_predict=model.predict(X_test)"
   ]
  },
  {
   "cell_type": "markdown",
   "metadata": {},
   "source": [
    "Transform back from scaler to original form"
   ]
  },
  {
   "cell_type": "code",
   "execution_count": 70,
   "metadata": {},
   "outputs": [],
   "source": [
    "train_predict=scaler.inverse_transform(train_predict)\n",
    "test_predict=scaler.inverse_transform(test_predict)"
   ]
  },
  {
   "cell_type": "code",
   "execution_count": 71,
   "metadata": {},
   "outputs": [
    {
     "data": {
      "text/plain": [
       "array([[296.64474],\n",
       "       [285.0049 ],\n",
       "       [377.18488],\n",
       "       [303.9698 ],\n",
       "       [353.12637],\n",
       "       [439.56738],\n",
       "       [429.86597],\n",
       "       [415.85153],\n",
       "       [312.78058],\n",
       "       [301.53363],\n",
       "       [266.30444],\n",
       "       [344.9024 ],\n",
       "       [310.74747],\n",
       "       [294.84793],\n",
       "       [379.58524],\n",
       "       [300.00494],\n",
       "       [366.19656],\n",
       "       [451.1091 ],\n",
       "       [462.20645],\n",
       "       [448.7504 ],\n",
       "       [261.087  ],\n",
       "       [344.13507],\n",
       "       [243.76265],\n",
       "       [347.18668],\n",
       "       [340.1673 ],\n",
       "       [308.55228],\n",
       "       [437.127  ],\n",
       "       [323.88953],\n",
       "       [428.43698],\n",
       "       [457.225  ],\n",
       "       [538.37244],\n",
       "       [438.30292],\n",
       "       [297.98923],\n",
       "       [349.51688],\n",
       "       [264.11548],\n",
       "       [410.8147 ],\n",
       "       [357.9609 ],\n",
       "       [343.50238],\n",
       "       [423.01007],\n",
       "       [430.3411 ],\n",
       "       [413.18243],\n",
       "       [545.7801 ],\n",
       "       [567.3266 ],\n",
       "       [377.71902],\n",
       "       [324.36203],\n",
       "       [344.38123]], dtype=float32)"
      ]
     },
     "execution_count": 71,
     "metadata": {},
     "output_type": "execute_result"
    }
   ],
   "source": [
    "test_predict"
   ]
  },
  {
   "cell_type": "code",
   "execution_count": 72,
   "metadata": {},
   "outputs": [
    {
     "data": {
      "text/plain": [
       "((88,),\n",
       " (88, 1),\n",
       " array([[134.89426],\n",
       "        [128.92342],\n",
       "        [143.35838],\n",
       "        [153.62831],\n",
       "        [152.46243],\n",
       "        [142.1978 ],\n",
       "        [128.23332],\n",
       "        [115.59603],\n",
       "        [128.12677],\n",
       "        [122.70707],\n",
       "        [133.4757 ],\n",
       "        [147.04567],\n",
       "        [140.04538],\n",
       "        [132.84636],\n",
       "        [157.38518],\n",
       "        [174.06367],\n",
       "        [171.58405],\n",
       "        [161.93959],\n",
       "        [140.1126 ],\n",
       "        [125.37587],\n",
       "        [150.18832],\n",
       "        [149.62149],\n",
       "        [155.11606],\n",
       "        [184.11717],\n",
       "        [162.9411 ],\n",
       "        [178.99474],\n",
       "        [182.2651 ],\n",
       "        [204.02672],\n",
       "        [198.45981],\n",
       "        [184.83469],\n",
       "        [166.42604],\n",
       "        [154.18794],\n",
       "        [175.50809],\n",
       "        [174.3092 ],\n",
       "        [184.13559],\n",
       "        [196.85022],\n",
       "        [181.05305],\n",
       "        [188.70311],\n",
       "        [225.87985],\n",
       "        [227.35909],\n",
       "        [242.25188],\n",
       "        [199.20497],\n",
       "        [195.94008],\n",
       "        [176.461  ],\n",
       "        [203.63933],\n",
       "        [196.4253 ],\n",
       "        [198.28757],\n",
       "        [244.92577],\n",
       "        [227.0919 ],\n",
       "        [227.79176],\n",
       "        [247.15196],\n",
       "        [265.05136],\n",
       "        [266.44238],\n",
       "        [221.86395],\n",
       "        [212.02705],\n",
       "        [181.46689],\n",
       "        [212.4904 ],\n",
       "        [204.10927],\n",
       "        [187.72588],\n",
       "        [247.73807],\n",
       "        [216.84337],\n",
       "        [237.3087 ],\n",
       "        [269.31946],\n",
       "        [303.96375],\n",
       "        [272.92685],\n",
       "        [245.28743],\n",
       "        [224.98843],\n",
       "        [202.86884],\n",
       "        [240.3013 ],\n",
       "        [240.01765],\n",
       "        [227.60556],\n",
       "        [276.90717],\n",
       "        [257.90164],\n",
       "        [266.89636],\n",
       "        [326.319  ],\n",
       "        [363.10596],\n",
       "        [306.83264],\n",
       "        [292.0208 ],\n",
       "        [255.44234],\n",
       "        [226.89171],\n",
       "        [295.5198 ],\n",
       "        [269.5455 ],\n",
       "        [269.17813],\n",
       "        [328.59167],\n",
       "        [288.0301 ],\n",
       "        [314.68048],\n",
       "        [388.1973 ],\n",
       "        [393.39157]], dtype=float32))"
      ]
     },
     "execution_count": 72,
     "metadata": {},
     "output_type": "execute_result"
    }
   ],
   "source": [
    "y_train.shape,train_predict.shape,train_predict"
   ]
  },
  {
   "cell_type": "markdown",
   "metadata": {},
   "source": [
    "Check performance Metrics using mean squared error"
   ]
  },
  {
   "cell_type": "code",
   "execution_count": 73,
   "metadata": {},
   "outputs": [
    {
     "data": {
      "text/plain": [
       "220.16931426854805"
      ]
     },
     "execution_count": 73,
     "metadata": {},
     "output_type": "execute_result"
    }
   ],
   "source": [
    "import math\n",
    "from sklearn.metrics import mean_squared_error\n",
    "math.sqrt(mean_squared_error(y_train,train_predict))"
   ]
  },
  {
   "cell_type": "code",
   "execution_count": 74,
   "metadata": {},
   "outputs": [
    {
     "data": {
      "text/plain": [
       "377.9730310652066"
      ]
     },
     "execution_count": 74,
     "metadata": {},
     "output_type": "execute_result"
    }
   ],
   "source": [
    " #Test Data RMSE\n",
    "math.sqrt(mean_squared_error(ytest,test_predict))"
   ]
  },
  {
   "cell_type": "markdown",
   "metadata": {},
   "source": [
    "plot and check "
   ]
  },
  {
   "cell_type": "code",
   "execution_count": 80,
   "metadata": {},
   "outputs": [
    {
     "data": {
      "image/png": "[encoded data removed]",
      "text/plain": [
       "<Figure size 432x288 with 1 Axes>"
      ]
     },
     "metadata": {
      "needs_background": "light"
     },
     "output_type": "display_data"
    }
   ],
   "source": [
    "lookback=4\n",
    "trainPredictPlot = np.empty_like(df)\n",
    "trainPredictPlot[:, :] = np.nan\n",
    "trainPredictPlot[time_step:len(train_predict)+time_step, :] = train_predict\n",
    "\n",
    "\n",
    "testPredictPlot = np.empty_like(df)\n",
    "testPredictPlot[:, :] = np.nan\n",
    "testPredictPlot[len(train_predict)+(time_step*2)+1:len(df)-1, :] = test_predict\n",
    "\n",
    "\n",
    "plt.plot(scaler.inverse_transform(df))\n",
    "plt.plot(trainPredictPlot)\n",
    "plt.plot(testPredictPlot)\n",
    "plt.show()"
   ]
  },
  {
   "cell_type": "markdown",
   "metadata": {},
   "source": [
    "The blue color line is training data and orange line is my test data ,the green color line is my predicted line "
   ]
  }
 ],
 "metadata": {
  "kernelspec": {
   "display_name": "Python 3",
   "language": "python",
   "name": "python3"
  },
  "language_info": {
   "codemirror_mode": {
    "name": "ipython",
    "version": 3
   },
   "file_extension": ".py",
   "mimetype": "text/x-python",
   "name": "python",
   "nbconvert_exporter": "python",
   "pygments_lexer": "ipython3",
   "version": "3.7.6"
  }
 },
 "nbformat": 4,
 "nbformat_minor": 4
}
